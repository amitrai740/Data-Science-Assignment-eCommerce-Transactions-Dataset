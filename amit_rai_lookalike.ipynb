{
 "cells": [
  {
   "cell_type": "code",
   "execution_count": 4,
   "metadata": {},
   "outputs": [],
   "source": [
    "import pandas as pd\n",
    "import numpy as np\n",
    "from sklearn.metrics.pairwise import cosine_similarity\n",
    "from sklearn.preprocessing import StandardScaler"
   ]
  },
  {
   "cell_type": "code",
   "execution_count": 8,
   "metadata": {},
   "outputs": [],
   "source": [
    "# Load datasets\n",
    "customers = pd.read_csv('C:\\Data-Science-Assignment-eCommerce-Transactions-Dataset\\Dataset\\Customers .csv')\n",
    "products = pd.read_csv('C:\\Data-Science-Assignment-eCommerce-Transactions-Dataset\\Dataset\\Products.csv')\n",
    "transactions = pd.read_csv('C:\\Data-Science-Assignment-eCommerce-Transactions-Dataset\\Dataset\\Transactions.csv')\n",
    "\n",
    "# Merge transactions with products to include product details\n",
    "transactions_products = pd.merge(transactions, products, on='ProductID', how='left')\n",
    "\n",
    "# Merge with customers to include customer details\n",
    "data = pd.merge(transactions_products, customers, on='CustomerID', how='left')"
   ]
  },
  {
   "cell_type": "code",
   "execution_count": 9,
   "metadata": {},
   "outputs": [
    {
     "data": {
      "text/html": [
       "<div>\n",
       "<style scoped>\n",
       "    .dataframe tbody tr th:only-of-type {\n",
       "        vertical-align: middle;\n",
       "    }\n",
       "\n",
       "    .dataframe tbody tr th {\n",
       "        vertical-align: top;\n",
       "    }\n",
       "\n",
       "    .dataframe thead th {\n",
       "        text-align: right;\n",
       "    }\n",
       "</style>\n",
       "<table border=\"1\" class=\"dataframe\">\n",
       "  <thead>\n",
       "    <tr style=\"text-align: right;\">\n",
       "      <th></th>\n",
       "      <th>Price_x</th>\n",
       "      <th>Price_y</th>\n",
       "    </tr>\n",
       "  </thead>\n",
       "  <tbody>\n",
       "    <tr>\n",
       "      <th>0</th>\n",
       "      <td>300.68</td>\n",
       "      <td>300.68</td>\n",
       "    </tr>\n",
       "    <tr>\n",
       "      <th>1</th>\n",
       "      <td>300.68</td>\n",
       "      <td>300.68</td>\n",
       "    </tr>\n",
       "    <tr>\n",
       "      <th>2</th>\n",
       "      <td>300.68</td>\n",
       "      <td>300.68</td>\n",
       "    </tr>\n",
       "    <tr>\n",
       "      <th>3</th>\n",
       "      <td>300.68</td>\n",
       "      <td>300.68</td>\n",
       "    </tr>\n",
       "    <tr>\n",
       "      <th>4</th>\n",
       "      <td>300.68</td>\n",
       "      <td>300.68</td>\n",
       "    </tr>\n",
       "  </tbody>\n",
       "</table>\n",
       "</div>"
      ],
      "text/plain": [
       "   Price_x  Price_y\n",
       "0   300.68   300.68\n",
       "1   300.68   300.68\n",
       "2   300.68   300.68\n",
       "3   300.68   300.68\n",
       "4   300.68   300.68"
      ]
     },
     "execution_count": 9,
     "metadata": {},
     "output_type": "execute_result"
    }
   ],
   "source": [
    "data[['Price_x', 'Price_y']].head()"
   ]
  },
  {
   "cell_type": "markdown",
   "metadata": {},
   "source": [
    "## There is no difference between Price_x and Price_y.So we can remove any 1"
   ]
  },
  {
   "cell_type": "code",
   "execution_count": 10,
   "metadata": {},
   "outputs": [
    {
     "name": "stdout",
     "output_type": "stream",
     "text": [
      "Index(['TransactionID', 'CustomerID', 'ProductID', 'TransactionDate',\n",
      "       'Quantity', 'TotalValue', 'ProductName', 'Category', 'CustomerName',\n",
      "       'Region', 'SignupDate', 'Price'],\n",
      "      dtype='object')\n"
     ]
    }
   ],
   "source": [
    "# Keep Price_y as the correct Price column\n",
    "data['Price'] = data['Price_y']  # Rename Price_y to Price\n",
    "\n",
    "# Drop Price_x and Price_y to avoid confusion\n",
    "data.drop(columns=['Price_x', 'Price_y'], inplace=True)\n",
    "\n",
    "# Verify the updated DataFrame\n",
    "print(data.columns)"
   ]
  },
  {
   "cell_type": "code",
   "execution_count": 11,
   "metadata": {},
   "outputs": [
    {
     "name": "stdout",
     "output_type": "stream",
     "text": [
      "  CustomerID  TotalValue  Quantity       Price  \\\n",
      "0      C0001     3354.52        12  278.334000   \n",
      "1      C0002     1862.74        10  208.920000   \n",
      "2      C0003     2725.38        14  195.707500   \n",
      "3      C0004     5354.88        23  240.636250   \n",
      "4      C0005     2034.24         7  291.603333   \n",
      "\n",
      "                                            Category  \n",
      "0  Books Home Decor Electronics Electronics Elect...  \n",
      "1            Home Decor Home Decor Clothing Clothing  \n",
      "2         Home Decor Home Decor Clothing Electronics  \n",
      "3  Books Home Decor Home Decor Home Decor Books B...  \n",
      "4                 Home Decor Electronics Electronics  \n"
     ]
    }
   ],
   "source": [
    "# Aggregate transaction data to create customer profiles\n",
    "customer_profiles = data.groupby('CustomerID').agg({\n",
    "    'TotalValue': 'sum',  # Total spending\n",
    "    'Quantity': 'sum',    # Total quantity purchased\n",
    "    'Price': 'mean',      # Average price of items purchased\n",
    "    'Category': lambda x: ' '.join(x.astype(str))  # Categories of products purchased\n",
    "}).reset_index()\n",
    "\n",
    "# Inspect the customer profiles\n",
    "print(customer_profiles.head())"
   ]
  },
  {
   "cell_type": "code",
   "execution_count": 12,
   "metadata": {},
   "outputs": [
    {
     "name": "stdout",
     "output_type": "stream",
     "text": [
      "  CustomerID  TotalValue  Quantity       Price  Books  Clothing  Decor  \\\n",
      "0      C0001     3354.52        12  278.334000      1         0      1   \n",
      "1      C0002     1862.74        10  208.920000      0         1      1   \n",
      "2      C0003     2725.38        14  195.707500      0         1      1   \n",
      "3      C0004     5354.88        23  240.636250      1         0      1   \n",
      "4      C0005     2034.24         7  291.603333      0         0      1   \n",
      "\n",
      "   Electronics  Home  \n",
      "0            1     1  \n",
      "1            0     1  \n",
      "2            1     1  \n",
      "3            1     1  \n",
      "4            1     1  \n"
     ]
    }
   ],
   "source": [
    "# One-hot encode the Category column\n",
    "categories_onehot = customer_profiles['Category'].str.get_dummies(sep=' ')\n",
    "customer_profiles = pd.concat([customer_profiles, categories_onehot], axis=1)\n",
    "\n",
    "# Drop the original 'Category' column\n",
    "customer_profiles.drop(columns=['Category'], inplace=True)\n",
    "\n",
    "# Inspect the final customer profiles\n",
    "print(customer_profiles.head())"
   ]
  },
  {
   "cell_type": "code",
   "execution_count": 13,
   "metadata": {},
   "outputs": [
    {
     "name": "stdout",
     "output_type": "stream",
     "text": [
      "  CustomerID  TotalValue  Quantity     Price  Books  Clothing  Decor  \\\n",
      "0      C0001   -0.061701 -0.122033  0.094670      1         0      1   \n",
      "1      C0002   -0.877744 -0.448000 -0.904016      0         1      1   \n",
      "2      C0003   -0.405857  0.203934 -1.094109      0         1      1   \n",
      "3      C0004    1.032547  1.670787 -0.447702      1         0      1   \n",
      "4      C0005   -0.783929 -0.936951  0.285581      0         0      1   \n",
      "\n",
      "   Electronics  Home  \n",
      "0            1     1  \n",
      "1            0     1  \n",
      "2            1     1  \n",
      "3            1     1  \n",
      "4            1     1  \n"
     ]
    }
   ],
   "source": [
    "# Normalize the numerical features\n",
    "scaler = StandardScaler()\n",
    "numerical_features = ['TotalValue', 'Quantity', 'Price']\n",
    "customer_profiles[numerical_features] = scaler.fit_transform(customer_profiles[numerical_features])\n",
    "\n",
    "# Inspect normalized profiles\n",
    "print(customer_profiles.head())"
   ]
  },
  {
   "cell_type": "code",
   "execution_count": 14,
   "metadata": {},
   "outputs": [
    {
     "name": "stdout",
     "output_type": "stream",
     "text": [
      "CustomerID     C0001     C0002     C0003     C0004     C0005     C0006  \\\n",
      "CustomerID                                                               \n",
      "C0001       1.000000  0.460710  0.620905  0.647716  0.743160  0.688551   \n",
      "C0002       0.460710  1.000000  0.836309  0.120724  0.608911  0.391806   \n",
      "C0003       0.620905  0.836309  1.000000  0.517006  0.566163  0.359511   \n",
      "C0004       0.647716  0.120724  0.517006  1.000000  0.081906  0.449691   \n",
      "C0005       0.743160  0.608911  0.566163  0.081906  1.000000  0.428317   \n",
      "\n",
      "CustomerID     C0007     C0008     C0009     C0010  ...     C0191     C0192  \\\n",
      "CustomerID                                          ...                       \n",
      "C0001       0.712708  0.714148  0.254506  0.188211  ...  0.698224  0.523961   \n",
      "C0002       0.355025  0.453444  0.459548  0.649903  ...  0.063342  0.406903   \n",
      "C0003       0.344167  0.768225  0.303603  0.574909  ...  0.252704  0.403190   \n",
      "C0004       0.109391  0.895204 -0.448097  0.083254  ...  0.283126 -0.029686   \n",
      "C0005       0.916421  0.245262  0.671112  0.073130  ...  0.480503  0.541972   \n",
      "\n",
      "CustomerID     C0193     C0194     C0195     C0196     C0197     C0198  \\\n",
      "CustomerID                                                               \n",
      "C0001       0.481129  0.855942  0.641523  0.523123  0.720464  0.238596   \n",
      "C0002       0.192989  0.609421  0.602829  0.066458  0.774618  0.592482   \n",
      "C0003       0.069106  0.819597  0.899175  0.050339  0.795501  0.457286   \n",
      "C0004       0.104102  0.729313  0.753563  0.317791  0.232280 -0.393157   \n",
      "C0005       0.186715  0.517812  0.412657  0.320034  0.892859  0.624008   \n",
      "\n",
      "CustomerID     C0199     C0200  \n",
      "CustomerID                      \n",
      "C0001       0.759242  0.804817  \n",
      "C0002       0.733935  0.342347  \n",
      "C0003       0.749214  0.607456  \n",
      "C0004       0.221035  0.790737  \n",
      "C0005       0.948959  0.394684  \n",
      "\n",
      "[5 rows x 199 columns]\n"
     ]
    }
   ],
   "source": [
    "# Extract feature matrix for similarity calculation\n",
    "features = customer_profiles.drop(columns=['CustomerID']).values\n",
    "\n",
    "# Compute cosine similarity\n",
    "similarity_matrix = cosine_similarity(features)\n",
    "\n",
    "# Convert the similarity matrix into a DataFrame\n",
    "similarity_df = pd.DataFrame(similarity_matrix, index=customer_profiles['CustomerID'], columns=customer_profiles['CustomerID'])\n",
    "\n",
    "# Inspect similarity matrix\n",
    "print(similarity_df.head())"
   ]
  },
  {
   "cell_type": "code",
   "execution_count": 15,
   "metadata": {},
   "outputs": [
    {
     "name": "stdout",
     "output_type": "stream",
     "text": [
      "{'C0001': [('C0152', np.float64(0.9840747534870863)), ('C0047', np.float64(0.9743347715237054)), ('C0064', np.float64(0.9733438868355152))], 'C0002': [('C0062', np.float64(0.9879562559926719)), ('C0144', np.float64(0.9712912534049278)), ('C0159', np.float64(0.9581070853251885))], 'C0003': [('C0106', np.float64(0.9621388024035196)), ('C0166', np.float64(0.9202976457032854)), ('C0091', np.float64(0.9166636215040813))], 'C0004': [('C0012', np.float64(0.9667278429035313)), ('C0018', np.float64(0.9605484448837079)), ('C0075', np.float64(0.9450002768853324))], 'C0005': [('C0140', np.float64(0.9917200040362902)), ('C0069', np.float64(0.9522869816711161)), ('C0199', np.float64(0.9489593427936945))], 'C0006': [('C0079', np.float64(0.9890410958928005)), ('C0139', np.float64(0.9714404587450668)), ('C0187', np.float64(0.9542973356508766))], 'C0007': [('C0005', np.float64(0.9164211120642998)), ('C0085', np.float64(0.9163649694370852)), ('C0146', np.float64(0.905512396700941))], 'C0008': [('C0017', np.float64(0.9945557185905125)), ('C0113', np.float64(0.9901571035563307)), ('C0039', np.float64(0.9893680138212516))], 'C0009': [('C0198', np.float64(0.9456198660166513)), ('C0130', np.float64(0.9211282827042556)), ('C0020', np.float64(0.9205518031549111))], 'C0010': [('C0176', np.float64(0.9779268263374592)), ('C0142', np.float64(0.9766706630737019)), ('C0077', np.float64(0.9298982046789187))], 'C0011': [('C0183', np.float64(0.994214322022158)), ('C0107', np.float64(0.9906271604412477)), ('C0056', np.float64(0.9742863527527513))], 'C0012': [('C0018', np.float64(0.9889951651925906)), ('C0148', np.float64(0.9750513578108415)), ('C0004', np.float64(0.9667278429035313))], 'C0013': [('C0099', np.float64(0.9838017888708838)), ('C0155', np.float64(0.9768992533910156)), ('C0087', np.float64(0.9660591786891141))], 'C0014': [('C0097', np.float64(0.9981279389756897)), ('C0110', np.float64(0.9489129269367574)), ('C0060', np.float64(0.9452528761174568))], 'C0015': [('C0131', np.float64(0.9674887609552806)), ('C0123', np.float64(0.9289506124458158)), ('C0080', np.float64(0.9286046917576328))], 'C0016': [('C0044', np.float64(0.9734923611739178)), ('C0074', np.float64(0.9719212912718556)), ('C0040', np.float64(0.9155354156775654))], 'C0017': [('C0113', np.float64(0.998683992256888)), ('C0008', np.float64(0.9945557185905125)), ('C0162', np.float64(0.9866698411859167))], 'C0018': [('C0012', np.float64(0.9889951651925906)), ('C0004', np.float64(0.9605484448837079)), ('C0148', np.float64(0.9418168189927276))], 'C0019': [('C0112', np.float64(0.9443880773987335)), ('C0191', np.float64(0.8909034237626632)), ('C0070', np.float64(0.8811611003696083))], 'C0020': [('C0130', np.float64(0.9976782077607544)), ('C0009', np.float64(0.9205518031549111)), ('C0120', np.float64(0.9073899237780542))]}\n"
     ]
    }
   ],
   "source": [
    "# Define the list of first 20 customers\n",
    "first_20_customers = customers['CustomerID'][:20]\n",
    "\n",
    "# Create a dictionary to store lookalike recommendations\n",
    "lookalike_recommendations = {}\n",
    "\n",
    "for customer in first_20_customers:\n",
    "    # Get similarity scores for the current customer\n",
    "    similarities = similarity_df[customer]\n",
    "    \n",
    "    # Find the top 3 similar customers (excluding the current customer)\n",
    "    top_similar = similarities.sort_values(ascending=False).iloc[1:4]\n",
    "    \n",
    "    # Store results in the dictionary\n",
    "    lookalike_recommendations[customer] = list(zip(top_similar.index, top_similar.values))\n",
    "\n",
    "# Inspect recommendations\n",
    "print(lookalike_recommendations)"
   ]
  },
  {
   "cell_type": "code",
   "execution_count": 16,
   "metadata": {},
   "outputs": [],
   "source": [
    "### Saving the CSV file\n",
    "lookalike_list = []\n",
    "\n",
    "for customer, recommendations in lookalike_recommendations.items():\n",
    "    for similar_customer, score in recommendations:\n",
    "        lookalike_list.append({\n",
    "            'CustomerID': customer,\n",
    "            'SimilarCustomerID': similar_customer,\n",
    "            'SimilarityScore': score\n",
    "        })\n",
    "\n",
    "lookalike_df = pd.DataFrame(lookalike_list)\n",
    "\n",
    "# Save to CSV\n",
    "lookalike_df.to_csv('amit_rai_Lookalike.csv', index=False)"
   ]
  },
  {
   "cell_type": "code",
   "execution_count": null,
   "metadata": {},
   "outputs": [],
   "source": []
  }
 ],
 "metadata": {
  "kernelspec": {
   "display_name": "Python 3",
   "language": "python",
   "name": "python3"
  },
  "language_info": {
   "codemirror_mode": {
    "name": "ipython",
    "version": 3
   },
   "file_extension": ".py",
   "mimetype": "text/x-python",
   "name": "python",
   "nbconvert_exporter": "python",
   "pygments_lexer": "ipython3",
   "version": "3.10.16"
  }
 },
 "nbformat": 4,
 "nbformat_minor": 2
}
